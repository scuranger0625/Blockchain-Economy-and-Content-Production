{
 "cells": [
  {
   "cell_type": "code",
   "execution_count": 3,
   "id": "bff280d8",
   "metadata": {},
   "outputs": [
    {
     "name": "stdout",
     "output_type": "stream",
     "text": [
      "✅ 已點擊暫停鍵\n",
      "⏳ 等待 DAG 結構出現...\n",
      "❌ 超過 60 秒仍無法取得 DAG 資料，請確認網頁是否成功載入\n"
     ]
    }
   ],
   "source": [
    "from selenium import webdriver\n",
    "from selenium.webdriver.chrome.service import Service\n",
    "from selenium.webdriver.common.by import By\n",
    "from selenium.webdriver.chrome.options import Options\n",
    "from selenium.webdriver.support.ui import WebDriverWait\n",
    "import time, json\n",
    "\n",
    "# 1. 啟動 Chrome\n",
    "chrome_options = Options()\n",
    "chrome_options.add_argument(\"--start-maximized\")  # 使用完整版視窗\n",
    "driver = webdriver.Chrome(service=Service(), options=chrome_options)\n",
    "\n",
    "# 2. 打開 IOTA DAG 視覺化頁面\n",
    "driver.get(\"https://explorer.iota.org/mainnet/visualizer\")\n",
    "time.sleep(10)  # 給前端動畫 10 秒初始化時間\n",
    "\n",
    "# 3. 點擊「暫停」按鈕（右上角）\n",
    "try:\n",
    "    pause_button = driver.find_element(By.XPATH, '//button[contains(@class, \"pause\")]')\n",
    "    pause_button.click()\n",
    "    print(\"✅ 已點擊暫停鍵\")\n",
    "except Exception as e:\n",
    "    print(\"❌ 無法點擊暫停鍵：\", e)\n",
    "\n",
    "# 4. 等待 DAG 結構變數 `__graph` 出現，最多等 60 秒\n",
    "print(\"⏳ 等待 DAG 結構出現...\")\n",
    "graph_loaded = False\n",
    "for i in range(60):\n",
    "    try:\n",
    "        ready = driver.execute_script(\n",
    "            \"return !!window.__graph && !!window.__graph.nodes && Object.keys(window.__graph.nodes).length > 0\"\n",
    "        )\n",
    "        if ready:\n",
    "            print(f\"✅ DAG 已載入完成（{i+1} 秒）\")\n",
    "            graph_loaded = True\n",
    "            break\n",
    "    except:\n",
    "        pass\n",
    "    time.sleep(1)\n",
    "\n",
    "if not graph_loaded:\n",
    "    print(\"❌ 超過 60 秒仍無法取得 DAG 資料，請確認網頁是否成功載入\")\n",
    "else:\n",
    "    # 5. 擷取 DAG 節點與邊資料\n",
    "    js_code = \"\"\"\n",
    "    let nodes = Object.values(window.__graph.nodes);\n",
    "    let links = Object.values(window.__graph.links);\n",
    "    return {\n",
    "        nodes: nodes.map(n => ({id: n.id, status: n.status, x: n.x, y: n.y})),\n",
    "        links: links.map(l => ({source: l.source, target: l.target}))\n",
    "    };\n",
    "    \"\"\"\n",
    "    dag_data = driver.execute_script(js_code)\n",
    "\n",
    "    # 6. 儲存為 JSON 檔案\n",
    "    with open(\"dag_snapshot.json\", \"w\", encoding=\"utf-8\") as f:\n",
    "        json.dump(dag_data, f, ensure_ascii=False, indent=2)\n",
    "    print(\"📁 已儲存 DAG 資料到 dag_snapshot.json，共有節點：\", len(dag_data[\"nodes\"]))\n",
    "\n",
    "# 7. 結束（可選關閉瀏覽器）\n",
    "# driver.quit()\n"
   ]
  }
 ],
 "metadata": {
  "kernelspec": {
   "display_name": "Python 3",
   "language": "python",
   "name": "python3"
  },
  "language_info": {
   "codemirror_mode": {
    "name": "ipython",
    "version": 3
   },
   "file_extension": ".py",
   "mimetype": "text/x-python",
   "name": "python",
   "nbconvert_exporter": "python",
   "pygments_lexer": "ipython3",
   "version": "3.13.2"
  }
 },
 "nbformat": 4,
 "nbformat_minor": 5
}
