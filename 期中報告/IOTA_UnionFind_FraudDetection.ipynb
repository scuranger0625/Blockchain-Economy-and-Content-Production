{
 "cells": [
  {
   "cell_type": "code",
   "execution_count": 1,
   "id": "79353b81",
   "metadata": {},
   "outputs": [
    {
     "ename": "ModuleNotFoundError",
     "evalue": "No module named 'pandas'",
     "output_type": "error",
     "traceback": [
      "\u001b[1;31m---------------------------------------------------------------------------\u001b[0m",
      "\u001b[1;31mModuleNotFoundError\u001b[0m                       Traceback (most recent call last)",
      "Cell \u001b[1;32mIn[1], line 2\u001b[0m\n\u001b[0;32m      1\u001b[0m \u001b[38;5;28;01mfrom\u001b[39;00m\u001b[38;5;250m \u001b[39m\u001b[38;5;21;01mpyspark\u001b[39;00m\u001b[38;5;21;01m.\u001b[39;00m\u001b[38;5;21;01msql\u001b[39;00m\u001b[38;5;250m \u001b[39m\u001b[38;5;28;01mimport\u001b[39;00m SparkSession\n\u001b[1;32m----> 2\u001b[0m \u001b[38;5;28;01mimport\u001b[39;00m\u001b[38;5;250m \u001b[39m\u001b[38;5;21;01mpandas\u001b[39;00m\u001b[38;5;250m \u001b[39m\u001b[38;5;28;01mas\u001b[39;00m\u001b[38;5;250m \u001b[39m\u001b[38;5;21;01mpd\u001b[39;00m\n\u001b[0;32m      4\u001b[0m \u001b[38;5;66;03m# 建立 Spark Session（在 Notebook 中執行）\u001b[39;00m\n\u001b[0;32m      5\u001b[0m spark \u001b[38;5;241m=\u001b[39m SparkSession\u001b[38;5;241m.\u001b[39mbuilder\u001b[38;5;241m.\u001b[39mappName(\u001b[38;5;124m\"\u001b[39m\u001b[38;5;124mIOTA_Fraud_UnionFind\u001b[39m\u001b[38;5;124m\"\u001b[39m)\u001b[38;5;241m.\u001b[39mgetOrCreate()\n",
      "\u001b[1;31mModuleNotFoundError\u001b[0m: No module named 'pandas'"
     ]
    }
   ],
   "source": [
    "from pyspark.sql import SparkSession\n",
    "import pandas as pd\n",
    "\n",
    "# 建立 Spark Session（在 Notebook 中執行）\n",
    "spark = SparkSession.builder.appName(\"IOTA_Fraud_UnionFind\").getOrCreate()\n",
    "\n",
    "# 模擬交易資料 (Sender ➝ Receiver)\n",
    "transactions = [\n",
    "    (\"A\", \"B\"),   # A 是黑名單帳戶\n",
    "    (\"B\", \"C\"),\n",
    "    (\"C\", \"D\"),\n",
    "    (\"X\", \"Y\"),\n",
    "    (\"Y\", \"Z\"),\n",
    "    (\"Z\", \"E\"),\n",
    "    (\"Q\", \"R\"),\n",
    "    (\"R\", \"S\"),\n",
    "    (\"S\", \"D\"),   # 嘗試與 D 合併資金鏈\n",
    "]\n",
    "\n",
    "# 轉為 Spark DataFrame\n",
    "df = spark.createDataFrame(transactions, [\"sender\", \"receiver\"])\n",
    "\n",
    "# 轉成 Pandas 處理 Union-Find（可擴成 mapPartitions）\n",
    "df_pd = df.toPandas()\n",
    "\n",
    "# 初始化 Union-Find 結構\n",
    "parent = {}\n",
    "\n",
    "def find(x):\n",
    "    if x not in parent:\n",
    "        parent[x] = x\n",
    "    if parent[x] != x:\n",
    "        parent[x] = find(parent[x])  # 路徑壓縮\n",
    "    return parent[x]\n",
    "\n",
    "def union(x, y):\n",
    "    root_x = find(x)\n",
    "    root_y = find(y)\n",
    "    if root_x != root_y:\n",
    "        parent[root_y] = root_x\n",
    "\n",
    "# 執行 union 操作建立資金鏈群組\n",
    "for sender, receiver in df_pd.itertuples(index=False):\n",
    "    union(sender, receiver)\n",
    "\n",
    "# 假設 A 是黑名單帳戶\n",
    "blacklist_root = find(\"A\")\n",
    "\n",
    "# 查出所有與 A 在同一資金鏈的帳戶\n",
    "high_risk_accounts = [acc for acc in parent if find(acc) == blacklist_root]\n",
    "\n",
    "# 顯示為表格\n",
    "result_df = pd.DataFrame(high_risk_accounts, columns=[\"High_Risk_Accounts\"])\n",
    "display(result_df)\n"
   ]
  }
 ],
 "metadata": {
  "kernelspec": {
   "display_name": "Python 3",
   "language": "python",
   "name": "python3"
  },
  "language_info": {
   "codemirror_mode": {
    "name": "ipython",
    "version": 3
   },
   "file_extension": ".py",
   "mimetype": "text/x-python",
   "name": "python",
   "nbconvert_exporter": "python",
   "pygments_lexer": "ipython3",
   "version": "3.10.0"
  }
 },
 "nbformat": 4,
 "nbformat_minor": 5
}
