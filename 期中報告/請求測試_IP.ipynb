{
 "cells": [
  {
   "cell_type": "code",
   "execution_count": 1,
   "id": "c42f6cd4",
   "metadata": {},
   "outputs": [
    {
     "name": "stdout",
     "output_type": "stream",
     "text": [
      "🧪 測試輸出：我正在執行這份程式\n",
      "🚀 開始請求 IOTA 測試網 via IP（節點 2）...\n",
      "❌ 請求失敗，錯誤訊息： HTTPSConnectionPool(host='38.242.219.189', port=443): Max retries exceeded with url: /api/v1/info (Caused by ConnectTimeoutError(<urllib3.connection.HTTPSConnection object at 0x00000230727778C0>, 'Connection to 38.242.219.189 timed out. (connect timeout=None)'))\n"
     ]
    }
   ],
   "source": [
    "import requests\n",
    "import urllib3\n",
    "\n",
    "print(\"🧪 測試輸出：我正在執行這份程式\")\n",
    "urllib3.disable_warnings()\n",
    "\n",
    "try:\n",
    "    print(\"🚀 開始請求 IOTA 測試網 via IP（節點 2）...\")\n",
    "\n",
    "    response = requests.get(\n",
    "        \"https://38.242.219.189/api/v1/info\",\n",
    "        headers={\"Host\": \"api.testnet.shimmer.network\"},\n",
    "        verify=False\n",
    "    )\n",
    "\n",
    "    print(\"✅ 使用 IP 請求成功！IOTA 測試網節點資訊：\")\n",
    "    print(response.json())\n",
    "\n",
    "except Exception as e:\n",
    "    print(\"❌ 請求失敗，錯誤訊息：\", e)\n"
   ]
  },
  {
   "cell_type": "code",
   "execution_count": 3,
   "id": "fe9e028c",
   "metadata": {},
   "outputs": [
    {
     "name": "stdout",
     "output_type": "stream",
     "text": [
      "🔢 回傳狀態碼： 404\n",
      "🧾 原始回傳內容： Not Found\n",
      "\n",
      "✅ 成功經由 Proxy 拿到 Shimmer 節點資訊（JSON）：\n",
      "❌ 錯誤： Expecting value: line 1 column 1 (char 0)\n"
     ]
    }
   ],
   "source": [
    "import requests\n",
    "\n",
    "url = \"https://iota-proxy.onrender.com/info\"\n",
    "\n",
    "try:\n",
    "    response = requests.get(url)\n",
    "    print(\"🔢 回傳狀態碼：\", response.status_code)\n",
    "    print(\"🧾 原始回傳內容：\", response.text)\n",
    "    print(\"✅ 成功經由 Proxy 拿到 Shimmer 節點資訊（JSON）：\")\n",
    "    print(response.json())\n",
    "except Exception as e:\n",
    "    print(\"❌ 錯誤：\", e)\n"
   ]
  },
  {
   "cell_type": "code",
   "execution_count": 1,
   "id": "6367c526",
   "metadata": {},
   "outputs": [
    {
     "name": "stdout",
     "output_type": "stream",
     "text": [
      "✅ 點擊暫停成功\n"
     ]
    },
    {
     "ename": "JavascriptException",
     "evalue": "Message: javascript error: Cannot read properties of undefined (reading 'nodes')\n  (Session info: chrome=134.0.6998.179)\nStacktrace:\n\tGetHandleVerifier [0x00007FF79CE54C25+3179557]\n\t(No symbol) [0x00007FF79CAB88A0]\n\t(No symbol) [0x00007FF79C9491CA]\n\t(No symbol) [0x00007FF79C950B98]\n\t(No symbol) [0x00007FF79C953F11]\n\t(No symbol) [0x00007FF79C9F1652]\n\t(No symbol) [0x00007FF79C9C7C2A]\n\t(No symbol) [0x00007FF79C9F02F3]\n\t(No symbol) [0x00007FF79C9C7A03]\n\t(No symbol) [0x00007FF79C9906D0]\n\t(No symbol) [0x00007FF79C991983]\n\tGetHandleVerifier [0x00007FF79CEB67CD+3579853]\n\tGetHandleVerifier [0x00007FF79CECD1D2+3672530]\n\tGetHandleVerifier [0x00007FF79CEC2153+3627347]\n\tGetHandleVerifier [0x00007FF79CC2092A+868650]\n\t(No symbol) [0x00007FF79CAC2FFF]\n\t(No symbol) [0x00007FF79CABF4A4]\n\t(No symbol) [0x00007FF79CABF646]\n\t(No symbol) [0x00007FF79CAAEAA9]\n\tBaseThreadInitThunk [0x00007FFCB746E8D7+23]\n\tRtlUserThreadStart [0x00007FFCB83114FC+44]\n",
     "output_type": "error",
     "traceback": [
      "\u001b[1;31m---------------------------------------------------------------------------\u001b[0m",
      "\u001b[1;31mJavascriptException\u001b[0m                       Traceback (most recent call last)",
      "Cell \u001b[1;32mIn[1], line 41\u001b[0m\n\u001b[0;32m     32\u001b[0m \u001b[38;5;66;03m# 注入 JS 取出 DAG 結構\u001b[39;00m\n\u001b[0;32m     33\u001b[0m js_code \u001b[38;5;241m=\u001b[39m \u001b[38;5;124m\"\"\"\u001b[39m\n\u001b[0;32m     34\u001b[0m \u001b[38;5;124mlet nodes = Object.values(window.__graph.nodes);\u001b[39m\n\u001b[0;32m     35\u001b[0m \u001b[38;5;124mlet links = Object.values(window.__graph.links);\u001b[39m\n\u001b[1;32m   (...)\u001b[0m\n\u001b[0;32m     39\u001b[0m \u001b[38;5;124m};\u001b[39m\n\u001b[0;32m     40\u001b[0m \u001b[38;5;124m\"\"\"\u001b[39m\n\u001b[1;32m---> 41\u001b[0m dag_data \u001b[38;5;241m=\u001b[39m \u001b[43mdriver\u001b[49m\u001b[38;5;241;43m.\u001b[39;49m\u001b[43mexecute_script\u001b[49m\u001b[43m(\u001b[49m\u001b[43mjs_code\u001b[49m\u001b[43m)\u001b[49m\n\u001b[0;32m     43\u001b[0m \u001b[38;5;66;03m# 儲存為 JSON\u001b[39;00m\n\u001b[0;32m     44\u001b[0m \u001b[38;5;28;01mwith\u001b[39;00m \u001b[38;5;28mopen\u001b[39m(\u001b[38;5;124m\"\u001b[39m\u001b[38;5;124mdag_snapshot.json\u001b[39m\u001b[38;5;124m\"\u001b[39m, \u001b[38;5;124m\"\u001b[39m\u001b[38;5;124mw\u001b[39m\u001b[38;5;124m\"\u001b[39m, encoding\u001b[38;5;241m=\u001b[39m\u001b[38;5;124m\"\u001b[39m\u001b[38;5;124mutf-8\u001b[39m\u001b[38;5;124m\"\u001b[39m) \u001b[38;5;28;01mas\u001b[39;00m f:\n",
      "File \u001b[1;32mc:\\Users\\Leon\\AppData\\Local\\Programs\\Python\\Python313\\Lib\\site-packages\\selenium\\webdriver\\remote\\webdriver.py:528\u001b[0m, in \u001b[0;36mWebDriver.execute_script\u001b[1;34m(self, script, *args)\u001b[0m\n\u001b[0;32m    525\u001b[0m converted_args \u001b[38;5;241m=\u001b[39m \u001b[38;5;28mlist\u001b[39m(args)\n\u001b[0;32m    526\u001b[0m command \u001b[38;5;241m=\u001b[39m Command\u001b[38;5;241m.\u001b[39mW3C_EXECUTE_SCRIPT\n\u001b[1;32m--> 528\u001b[0m \u001b[38;5;28;01mreturn\u001b[39;00m \u001b[38;5;28;43mself\u001b[39;49m\u001b[38;5;241;43m.\u001b[39;49m\u001b[43mexecute\u001b[49m\u001b[43m(\u001b[49m\u001b[43mcommand\u001b[49m\u001b[43m,\u001b[49m\u001b[43m \u001b[49m\u001b[43m{\u001b[49m\u001b[38;5;124;43m\"\u001b[39;49m\u001b[38;5;124;43mscript\u001b[39;49m\u001b[38;5;124;43m\"\u001b[39;49m\u001b[43m:\u001b[49m\u001b[43m \u001b[49m\u001b[43mscript\u001b[49m\u001b[43m,\u001b[49m\u001b[43m \u001b[49m\u001b[38;5;124;43m\"\u001b[39;49m\u001b[38;5;124;43margs\u001b[39;49m\u001b[38;5;124;43m\"\u001b[39;49m\u001b[43m:\u001b[49m\u001b[43m \u001b[49m\u001b[43mconverted_args\u001b[49m\u001b[43m}\u001b[49m\u001b[43m)\u001b[49m[\u001b[38;5;124m\"\u001b[39m\u001b[38;5;124mvalue\u001b[39m\u001b[38;5;124m\"\u001b[39m]\n",
      "File \u001b[1;32mc:\\Users\\Leon\\AppData\\Local\\Programs\\Python\\Python313\\Lib\\site-packages\\selenium\\webdriver\\remote\\webdriver.py:429\u001b[0m, in \u001b[0;36mWebDriver.execute\u001b[1;34m(self, driver_command, params)\u001b[0m\n\u001b[0;32m    427\u001b[0m response \u001b[38;5;241m=\u001b[39m \u001b[38;5;28mself\u001b[39m\u001b[38;5;241m.\u001b[39mcommand_executor\u001b[38;5;241m.\u001b[39mexecute(driver_command, params)\n\u001b[0;32m    428\u001b[0m \u001b[38;5;28;01mif\u001b[39;00m response:\n\u001b[1;32m--> 429\u001b[0m     \u001b[38;5;28;43mself\u001b[39;49m\u001b[38;5;241;43m.\u001b[39;49m\u001b[43merror_handler\u001b[49m\u001b[38;5;241;43m.\u001b[39;49m\u001b[43mcheck_response\u001b[49m\u001b[43m(\u001b[49m\u001b[43mresponse\u001b[49m\u001b[43m)\u001b[49m\n\u001b[0;32m    430\u001b[0m     response[\u001b[38;5;124m\"\u001b[39m\u001b[38;5;124mvalue\u001b[39m\u001b[38;5;124m\"\u001b[39m] \u001b[38;5;241m=\u001b[39m \u001b[38;5;28mself\u001b[39m\u001b[38;5;241m.\u001b[39m_unwrap_value(response\u001b[38;5;241m.\u001b[39mget(\u001b[38;5;124m\"\u001b[39m\u001b[38;5;124mvalue\u001b[39m\u001b[38;5;124m\"\u001b[39m, \u001b[38;5;28;01mNone\u001b[39;00m))\n\u001b[0;32m    431\u001b[0m     \u001b[38;5;28;01mreturn\u001b[39;00m response\n",
      "File \u001b[1;32mc:\\Users\\Leon\\AppData\\Local\\Programs\\Python\\Python313\\Lib\\site-packages\\selenium\\webdriver\\remote\\errorhandler.py:232\u001b[0m, in \u001b[0;36mErrorHandler.check_response\u001b[1;34m(self, response)\u001b[0m\n\u001b[0;32m    230\u001b[0m         alert_text \u001b[38;5;241m=\u001b[39m value[\u001b[38;5;124m\"\u001b[39m\u001b[38;5;124malert\u001b[39m\u001b[38;5;124m\"\u001b[39m]\u001b[38;5;241m.\u001b[39mget(\u001b[38;5;124m\"\u001b[39m\u001b[38;5;124mtext\u001b[39m\u001b[38;5;124m\"\u001b[39m)\n\u001b[0;32m    231\u001b[0m     \u001b[38;5;28;01mraise\u001b[39;00m exception_class(message, screen, stacktrace, alert_text)  \u001b[38;5;66;03m# type: ignore[call-arg]  # mypy is not smart enough here\u001b[39;00m\n\u001b[1;32m--> 232\u001b[0m \u001b[38;5;28;01mraise\u001b[39;00m exception_class(message, screen, stacktrace)\n",
      "\u001b[1;31mJavascriptException\u001b[0m: Message: javascript error: Cannot read properties of undefined (reading 'nodes')\n  (Session info: chrome=134.0.6998.179)\nStacktrace:\n\tGetHandleVerifier [0x00007FF79CE54C25+3179557]\n\t(No symbol) [0x00007FF79CAB88A0]\n\t(No symbol) [0x00007FF79C9491CA]\n\t(No symbol) [0x00007FF79C950B98]\n\t(No symbol) [0x00007FF79C953F11]\n\t(No symbol) [0x00007FF79C9F1652]\n\t(No symbol) [0x00007FF79C9C7C2A]\n\t(No symbol) [0x00007FF79C9F02F3]\n\t(No symbol) [0x00007FF79C9C7A03]\n\t(No symbol) [0x00007FF79C9906D0]\n\t(No symbol) [0x00007FF79C991983]\n\tGetHandleVerifier [0x00007FF79CEB67CD+3579853]\n\tGetHandleVerifier [0x00007FF79CECD1D2+3672530]\n\tGetHandleVerifier [0x00007FF79CEC2153+3627347]\n\tGetHandleVerifier [0x00007FF79CC2092A+868650]\n\t(No symbol) [0x00007FF79CAC2FFF]\n\t(No symbol) [0x00007FF79CABF4A4]\n\t(No symbol) [0x00007FF79CABF646]\n\t(No symbol) [0x00007FF79CAAEAA9]\n\tBaseThreadInitThunk [0x00007FFCB746E8D7+23]\n\tRtlUserThreadStart [0x00007FFCB83114FC+44]\n"
     ]
    }
   ],
   "source": [
    "from selenium import webdriver\n",
    "from selenium.webdriver.chrome.service import Service\n",
    "from selenium.webdriver.common.by import By\n",
    "from selenium.webdriver.chrome.options import Options\n",
    "import time\n",
    "import json\n",
    "\n",
    "# 設定 Chrome options\n",
    "chrome_options = Options()\n",
    "chrome_options.add_argument(\"--start-maximized\")\n",
    "\n",
    "# 啟動 Chrome\n",
    "driver = webdriver.Chrome(service=Service(), options=chrome_options)\n",
    "\n",
    "# 打開 IOTA Explorer Visualizer\n",
    "driver.get(\"https://explorer.iota.org/mainnet/visualizer\")\n",
    "\n",
    "# 等待載入（視網速可調整）\n",
    "time.sleep(10)\n",
    "\n",
    "# 找到暫停按鈕（右上角）\n",
    "try:\n",
    "    pause_button = driver.find_element(By.XPATH, '//button[contains(@class, \"pause\")]')\n",
    "    pause_button.click()\n",
    "    print(\"✅ 點擊暫停成功\")\n",
    "except Exception as e:\n",
    "    print(\"❌ 找不到暫停按鈕：\", e)\n",
    "\n",
    "# 再等幾秒以確保暫停完成\n",
    "time.sleep(2)\n",
    "\n",
    "# 注入 JS 取出 DAG 結構\n",
    "js_code = \"\"\"\n",
    "let nodes = Object.values(window.__graph.nodes);\n",
    "let links = Object.values(window.__graph.links);\n",
    "return {\n",
    "    nodes: nodes.map(n => ({id: n.id, status: n.status, x: n.x, y: n.y})),\n",
    "    links: links.map(l => ({source: l.source, target: l.target}))\n",
    "};\n",
    "\"\"\"\n",
    "dag_data = driver.execute_script(js_code)\n",
    "\n",
    "# 儲存為 JSON\n",
    "with open(\"dag_snapshot.json\", \"w\", encoding=\"utf-8\") as f:\n",
    "    json.dump(dag_data, f, ensure_ascii=False, indent=2)\n",
    "\n",
    "print(\"✅ 已儲存 DAG 結構到 dag_snapshot.json\")\n",
    "\n",
    "# 關閉瀏覽器\n",
    "driver.quit()\n"
   ]
  }
 ],
 "metadata": {
  "kernelspec": {
   "display_name": "Python 3",
   "language": "python",
   "name": "python3"
  },
  "language_info": {
   "codemirror_mode": {
    "name": "ipython",
    "version": 3
   },
   "file_extension": ".py",
   "mimetype": "text/x-python",
   "name": "python",
   "nbconvert_exporter": "python",
   "pygments_lexer": "ipython3",
   "version": "3.13.2"
  }
 },
 "nbformat": 4,
 "nbformat_minor": 5
}
